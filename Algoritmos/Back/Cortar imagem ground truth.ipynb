{
 "cells": [
  {
   "cell_type": "code",
   "execution_count": 1,
   "metadata": {
    "executionInfo": {
     "elapsed": 860,
     "status": "ok",
     "timestamp": 1745072615644,
     "user": {
      "displayName": "Suziane Mattos",
      "userId": "14801419820592845326"
     },
     "user_tz": 180
    },
    "id": "f6EGkY4u1cCQ"
   },
   "outputs": [],
   "source": [
    "import os\n",
    "import cv2\n",
    "import argparse\n",
    "import numpy as np\n",
    "from skimage import io\n",
    "from google.colab.patches import cv2_imshow\n",
    "from PIL import Image\n"
   ]
  },
  {
   "cell_type": "code",
   "execution_count": 2,
   "metadata": {
    "colab": {
     "base_uri": "https://localhost:8080/"
    },
    "executionInfo": {
     "elapsed": 23746,
     "status": "ok",
     "timestamp": 1745072639395,
     "user": {
      "displayName": "Suziane Mattos",
      "userId": "14801419820592845326"
     },
     "user_tz": 180
    },
    "id": "py5czsMNkD28",
    "outputId": "5424bc75-7704-44e8-8bef-68a25431c79b"
   },
   "outputs": [
    {
     "name": "stdout",
     "output_type": "stream",
     "text": [
      "Mounted at /content/drive/\n"
     ]
    }
   ],
   "source": [
    "from google.colab import drive\n",
    "drive.mount('/content/drive/')"
   ]
  },
  {
   "cell_type": "markdown",
   "metadata": {
    "id": "8ynQN1llekTL"
   },
   "source": [
    "## Criando os Bboxes"
   ]
  },
  {
   "cell_type": "code",
   "execution_count": null,
   "metadata": {
    "colab": {
     "base_uri": "https://localhost:8080/"
    },
    "executionInfo": {
     "elapsed": 4247088,
     "status": "ok",
     "timestamp": 1745076886496,
     "user": {
      "displayName": "Suziane Mattos",
      "userId": "14801419820592845326"
     },
     "user_tz": 180
    },
    "id": "AtyjXjVhsPDS",
    "outputId": "96005c3a-7ee1-4429-e1f9-3028093fc578"
   },
   "outputs": [],
   "source": [
    "from PIL import Image\n",
    "import os\n",
    "\n",
    "list_ignored_labels = [\n",
    "    'LOCAL', 'DATA EMISSÃO', 'ASSINATURA DO EMISSOR', 'OBSERVAÇÕES'\n",
    "]\n",
    "\n",
    "def checkClass(name):\n",
    "    if name == 'NÚMERO':\n",
    "        return 0\n",
    "    elif name == 'CÓDIGO':\n",
    "        return 1\n",
    "    elif name == 'NÚMERO LATERAL':\n",
    "        return 2\n",
    "    elif name == 'LOCAL':\n",
    "        return 3\n",
    "    elif name == 'DATA EMISSÃO':\n",
    "        return 4\n",
    "    elif name == 'ASSINATURA DO EMISSOR':\n",
    "        return 5\n",
    "    elif name == 'OBSERVAÇÕES':\n",
    "        return 6\n",
    "    else:\n",
    "        return -1\n",
    "\n",
    "def read_coordinates_gt(filename):\n",
    "    coordinates = []\n",
    "    with open(filename, 'r', encoding='utf-8') as file:\n",
    "        for line in file:\n",
    "            parts = line.strip().split(',', 4)\n",
    "            if len(parts) == 5:\n",
    "                try:\n",
    "                    x, y, width, height = map(int, parts[:4])\n",
    "                    label = parts[4].strip()\n",
    "                    coordinates.append((x, y, width, height, label))\n",
    "                except ValueError:\n",
    "                    print(f\"Error processing line: {line.strip()}\")\n",
    "    return coordinates\n",
    "\n",
    "def crop_images(image_path, coordinates, code, output_dir):\n",
    "    image = Image.open(image_path)\n",
    "    code_output_dir = os.path.join(output_dir, code)\n",
    "    os.makedirs(code_output_dir, exist_ok=True)\n",
    "\n",
    "    last_ignored_label = None\n",
    "    label_counters = {}\n",
    "\n",
    "    num_cut_direct = 0\n",
    "    for coordinate in coordinates:\n",
    "        x, y, w, h, label = coordinate\n",
    "        label_id = checkClass(label)\n",
    "\n",
    "        if num_cut_direct < 3:\n",
    "            label_id = num_cut_direct\n",
    "            num_cut_direct += 1\n",
    "\n",
    "        elif label in list_ignored_labels:\n",
    "            last_ignored_label = label\n",
    "            continue\n",
    "\n",
    "        elif label_id == -1:\n",
    "            label_id = checkClass(last_ignored_label)\n",
    "            if label_id == -1 or last_ignored_label is None:\n",
    "                continue\n",
    "\n",
    "        if label_id not in label_counters:\n",
    "            label_counters[label_id] = 1\n",
    "        else:\n",
    "            label_counters[label_id] += 1\n",
    "\n",
    "        current_counter = label_counters[label_id]\n",
    "        file_name = f'{label_id}.{current_counter}.jpg'\n",
    "\n",
    "        left = max(x - 5, 0)\n",
    "        top = max(y - 2, 0)\n",
    "        right = x + w + 2\n",
    "        bottom = y + h + 2\n",
    "\n",
    "        cropped_image = image.crop((left, top, right, bottom))\n",
    "        if label_id == 2:\n",
    "            cropped_image = cropped_image.rotate(270, expand=True)\n",
    "\n",
    "        print(f\"Save image: {file_name}\")\n",
    "        cropped_image.save(os.path.join(code_output_dir, file_name))\n",
    "\n",
    "folder_path = '/content/drive/MyDrive/BD/BID Dataset/CNH_Verso'\n",
    "new_gt = '/content/drive/MyDrive/news_gt_back'\n",
    "output_dir = '/content/drive/MyDrive/cropped_images_back'\n",
    "ignore_file_path = '/content/drive/MyDrive/dataset_back/ignore_files.txt'\n",
    "\n",
    "with open(ignore_file_path, 'r', encoding='utf-8') as f:\n",
    "    ignore_files = [line.strip() for line in f if line.strip()]\n",
    "\n",
    "image_files = [\n",
    "    f for f in os.listdir(folder_path)\n",
    "    if f.endswith('.jpg') and '_gt_segmentation' not in f and f not in ignore_files\n",
    "]\n",
    "\n",
    "for image_file in image_files:\n",
    "    print(f\"Processing image: {image_file}\")\n",
    "    image_path = os.path.join(folder_path, image_file)\n",
    "    image_code = os.path.splitext(image_file)[0].replace('_in', '')\n",
    "    gt_file = os.path.join(new_gt, f\"{image_code}_gt_ocr.txt\")\n",
    "    coordinates = read_coordinates_gt(gt_file)\n",
    "    crop_images(image_path, coordinates, image_code, output_dir)\n",
    "\n",
    "\n"
   ]
  }
 ],
 "metadata": {
  "colab": {
   "provenance": [
    {
     "file_id": "1DXJqO_LfGG3EaGRDi1HyUkfS_zOTCGlQ",
     "timestamp": 1715727693976
    }
   ]
  },
  "kernelspec": {
   "display_name": "Python 3",
   "name": "python3"
  },
  "language_info": {
   "name": "python"
  }
 },
 "nbformat": 4,
 "nbformat_minor": 0
}
