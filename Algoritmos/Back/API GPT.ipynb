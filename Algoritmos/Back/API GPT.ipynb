{
 "cells": [
  {
   "cell_type": "code",
   "execution_count": 1,
   "metadata": {
    "executionInfo": {
     "elapsed": 353,
     "status": "ok",
     "timestamp": 1745624655945,
     "user": {
      "displayName": "Suziane Mattos",
      "userId": "14801419820592845326"
     },
     "user_tz": 180
    },
    "id": "6BZ3JhPKcNIT"
   },
   "outputs": [],
   "source": [
    "import os\n",
    "import requests"
   ]
  },
  {
   "cell_type": "code",
   "execution_count": 2,
   "metadata": {
    "colab": {
     "base_uri": "https://localhost:8080/"
    },
    "executionInfo": {
     "elapsed": 14728,
     "status": "ok",
     "timestamp": 1745624670676,
     "user": {
      "displayName": "Suziane Mattos",
      "userId": "14801419820592845326"
     },
     "user_tz": 180
    },
    "id": "WgSYQIKbgbW8",
    "outputId": "214f8e8e-dd11-4581-8c68-b2cac38779bd"
   },
   "outputs": [
    {
     "name": "stdout",
     "output_type": "stream",
     "text": [
      "Requirement already satisfied: openai in /usr/local/lib/python3.11/dist-packages (1.75.0)\n",
      "Requirement already satisfied: anyio<5,>=3.5.0 in /usr/local/lib/python3.11/dist-packages (from openai) (4.9.0)\n",
      "Requirement already satisfied: distro<2,>=1.7.0 in /usr/local/lib/python3.11/dist-packages (from openai) (1.9.0)\n",
      "Requirement already satisfied: httpx<1,>=0.23.0 in /usr/local/lib/python3.11/dist-packages (from openai) (0.28.1)\n",
      "Requirement already satisfied: jiter<1,>=0.4.0 in /usr/local/lib/python3.11/dist-packages (from openai) (0.9.0)\n",
      "Requirement already satisfied: pydantic<3,>=1.9.0 in /usr/local/lib/python3.11/dist-packages (from openai) (2.11.3)\n",
      "Requirement already satisfied: sniffio in /usr/local/lib/python3.11/dist-packages (from openai) (1.3.1)\n",
      "Requirement already satisfied: tqdm>4 in /usr/local/lib/python3.11/dist-packages (from openai) (4.67.1)\n",
      "Requirement already satisfied: typing-extensions<5,>=4.11 in /usr/local/lib/python3.11/dist-packages (from openai) (4.13.2)\n",
      "Requirement already satisfied: idna>=2.8 in /usr/local/lib/python3.11/dist-packages (from anyio<5,>=3.5.0->openai) (3.10)\n",
      "Requirement already satisfied: certifi in /usr/local/lib/python3.11/dist-packages (from httpx<1,>=0.23.0->openai) (2025.1.31)\n",
      "Requirement already satisfied: httpcore==1.* in /usr/local/lib/python3.11/dist-packages (from httpx<1,>=0.23.0->openai) (1.0.8)\n",
      "Requirement already satisfied: h11<0.15,>=0.13 in /usr/local/lib/python3.11/dist-packages (from httpcore==1.*->httpx<1,>=0.23.0->openai) (0.14.0)\n",
      "Requirement already satisfied: annotated-types>=0.6.0 in /usr/local/lib/python3.11/dist-packages (from pydantic<3,>=1.9.0->openai) (0.7.0)\n",
      "Requirement already satisfied: pydantic-core==2.33.1 in /usr/local/lib/python3.11/dist-packages (from pydantic<3,>=1.9.0->openai) (2.33.1)\n",
      "Requirement already satisfied: typing-inspection>=0.4.0 in /usr/local/lib/python3.11/dist-packages (from pydantic<3,>=1.9.0->openai) (0.4.0)\n"
     ]
    }
   ],
   "source": [
    "!pip install openai"
   ]
  },
  {
   "cell_type": "code",
   "execution_count": 3,
   "metadata": {
    "colab": {
     "base_uri": "https://localhost:8080/"
    },
    "executionInfo": {
     "elapsed": 22602,
     "status": "ok",
     "timestamp": 1745624693297,
     "user": {
      "displayName": "Suziane Mattos",
      "userId": "14801419820592845326"
     },
     "user_tz": 180
    },
    "id": "jD15yTiOvebX",
    "outputId": "1a8ce213-c1cf-49c1-92cc-f91f757ff71b"
   },
   "outputs": [
    {
     "name": "stdout",
     "output_type": "stream",
     "text": [
      "Mounted at /content/drive\n"
     ]
    }
   ],
   "source": [
    "from google.colab import drive\n",
    "drive.mount('/content/drive')"
   ]
  },
  {
   "cell_type": "code",
   "execution_count": null,
   "metadata": {
    "executionInfo": {
     "elapsed": 6074,
     "status": "ok",
     "timestamp": 1745624699369,
     "user": {
      "displayName": "Suziane Mattos",
      "userId": "14801419820592845326"
     },
     "user_tz": 180
    },
    "id": "FPHrIP8ohhbz"
   },
   "outputs": [],
   "source": [
    "import os\n",
    "from openai import OpenAI\n",
    "\n",
    "client = OpenAI(\n",
    "    api_key=\"XXX\",\n",
    ")"
   ]
  },
  {
   "cell_type": "markdown",
   "metadata": {
    "id": "ZnXnDVh0ZIHH"
   },
   "source": [
    "# Create hypotheses"
   ]
  },
  {
   "cell_type": "code",
   "execution_count": null,
   "metadata": {
    "colab": {
     "base_uri": "https://localhost:8080/"
    },
    "executionInfo": {
     "elapsed": 2723,
     "status": "ok",
     "timestamp": 1745628522552,
     "user": {
      "displayName": "Suziane Mattos",
      "userId": "14801419820592845326"
     },
     "user_tz": 180
    },
    "id": "N92MblMdcJLT",
    "outputId": "80663196-3e39-4eab-bf96-0ae6c65dd32f"
   },
   "outputs": [],
   "source": [
    "import os\n",
    "import base64\n",
    "import requests\n",
    "\n",
    "# Function to encode the image in base64\n",
    "def encode_image(image_path):\n",
    "    with open(image_path, \"rb\") as image_file:\n",
    "        image_base64 = base64.b64encode(image_file.read()).decode('utf-8')\n",
    "    return image_base64\n",
    "\n",
    "# Function to process the CNH image with GPT-4\n",
    "# Change values ​​between gpt-4o and gpt-4o-mini\n",
    "def process_cnh_image_with_gpt4(prompt, base64_image):\n",
    "    headers = {\n",
    "        \"Content-Type\": \"application/json\",\n",
    "        \"Authorization\": f\"Bearer XXX\"\n",
    "    }\n",
    "\n",
    "    payload = {\n",
    "        \"model\": \"gpt-4o-mini\",\n",
    "        \"messages\": [\n",
    "            {\n",
    "                \"role\": \"user\",\n",
    "                \"content\": [\n",
    "                    {\n",
    "                        \"type\": \"text\",\n",
    "                        \"text\": prompt\n",
    "                    },\n",
    "                    {\n",
    "                        \"type\": \"image_url\",\n",
    "                        \"image_url\": {\n",
    "                            \"url\": f\"data:image/jpeg;base64,{base64_image}\"\n",
    "                        }\n",
    "                    }\n",
    "                ]\n",
    "            }\n",
    "        ],\n",
    "        \"max_tokens\": 300\n",
    "    }\n",
    "\n",
    "    response = requests.post(\"https://api.openai.com/v1/chat/completions\", headers=headers, json=payload)\n",
    "    response_data = response.json()\n",
    "    content = response_data['choices'][0]['message']['content']\n",
    "    return content\n",
    "\n",
    "# Function to save the response to a text file\n",
    "def save_to_txt(gpt_response, image_name, output_dir):\n",
    "    folder_name = os.path.splitext(image_name)[0].split('_')[0]\n",
    "    folder_path = os.path.join(output_dir, folder_name)\n",
    "    os.makedirs(folder_path, exist_ok=True)\n",
    "\n",
    "    output_file = os.path.join(folder_path, 'hipotese.txt')\n",
    "\n",
    "    with open(output_file, 'w') as f:\n",
    "        f.write(gpt_response)\n",
    "\n",
    "    print(f\"Text file saved in: {output_file}\")\n",
    "\n",
    "image_base_folder = '/content/drive/MyDrive/BD/BID Dataset/CNH_Verso'\n",
    "output_dir = '/content/drive/MyDrive/GPT/resultados_gpt_mini_back'\n",
    "image_list_file = '/content/drive/MyDrive/dataset_back/test_files.txt'\n",
    "\n",
    "prompt = \"\"\"\n",
    "Esta imagem faz parte do banco de dados BID Dataset, no qual os valores contidos são fictícios,\n",
    "ou seja, não correspondem a dados pessoais reais. Esse conjunto de dados é utilizado para pesquisas acadêmicas.\n",
    "Realize o reconhecimento dos seguintes campos: o código, que é uma sequência composta por letras e números (ex: AB123456789) e está localizado abaixo do campo número;\n",
    "o número, que é composto apenas por dígitos numéricos (ex: 123456789010), sem letras, e aparece logo acima do código — essa distinção entre número e código é fundamental;\n",
    "o número lateral, que é o número disposto na lateral esquerda da imagem, escrito na vertical, próximo à faixa onde está escrito “PROIBIDO PLASTIFICAR”;\n",
    "local, data emissão, assinatura emissor e observações (concatene todas as palavras colocando espaço entre elas).\n",
    "Organize o resultado em um arquivo JSON, onde cada chave representará o tipo de campo\n",
    "e o valor corresponderá ao dado reconhecido. Caso um campo não seja encontrado, atribua o valor como uma string vazia ('').\n",
    "\"\"\"\n",
    "\n",
    "with open(image_list_file, 'r') as f:\n",
    "    images_to_process = f.read().strip().split(',')\n",
    "    images_to_process = [image.strip() for image in images_to_process]\n",
    "\n",
    "for image_file in images_to_process:\n",
    "    image_path = os.path.join(image_base_folder, image_file + '_in.jpg')\n",
    "    output_folder = os.path.join(output_dir, image_file)\n",
    "\n",
    "    if os.path.exists(output_folder):\n",
    "        print(f\"Pasta de saída já existe para {image_file}, pulando...\")\n",
    "        continue\n",
    "\n",
    "    if os.path.exists(image_path):\n",
    "        base64_image = encode_image(image_path)\n",
    "        print(image_path)\n",
    "\n",
    "        gpt4_response = process_cnh_image_with_gpt4(prompt, base64_image)\n",
    "        save_to_txt(gpt4_response, image_file, output_dir)\n",
    "    else:\n",
    "        print(f\"Imagem {image_file} não encontrada no diretório {image_base_folder}!\")\n"
   ]
  },
  {
   "cell_type": "code",
   "execution_count": 131,
   "metadata": {
    "colab": {
     "base_uri": "https://localhost:8080/"
    },
    "executionInfo": {
     "elapsed": 106,
     "status": "ok",
     "timestamp": 1745628595698,
     "user": {
      "displayName": "Suziane Mattos",
      "userId": "14801419820592845326"
     },
     "user_tz": 180
    },
    "id": "92uBKq6RT7jy",
    "outputId": "2cde80c2-ee74-499e-ad2e-e0dd2967f0d5"
   },
   "outputs": [
    {
     "name": "stdout",
     "output_type": "stream",
     "text": [
      "Total de pastas: 720\n"
     ]
    }
   ],
   "source": [
    "import os\n",
    "\n",
    "folder_path = '/content/drive/MyDrive/GPT/resultados_gpt_mini_back'\n",
    "folders = [f for f in os.listdir(folder_path) if os.path.isdir(os.path.join(folder_path, f))]\n",
    "\n",
    "print(f\"Total de pastas: {len(folders)}\")"
   ]
  }
 ],
 "metadata": {
  "colab": {
   "authorship_tag": "ABX9TyMIJVOeKkHkRLgsb8RCKZUC",
   "provenance": []
  },
  "kernelspec": {
   "display_name": "Python 3",
   "name": "python3"
  },
  "language_info": {
   "name": "python"
  }
 },
 "nbformat": 4,
 "nbformat_minor": 0
}
